{
 "cells": [
  {
   "cell_type": "code",
   "execution_count": 29,
   "metadata": {},
   "outputs": [],
   "source": [
    "from __future__ import print_function\n",
    "import torch"
   ]
  },
  {
   "cell_type": "code",
   "execution_count": 35,
   "metadata": {},
   "outputs": [],
   "source": [
    "x = x.new_ones(5,3,dtype=torch.double)\n",
    "x = torch.randn_like(x,dtype=torch.float)"
   ]
  },
  {
   "cell_type": "code",
   "execution_count": 36,
   "metadata": {},
   "outputs": [
    {
     "data": {
      "text/plain": [
       "torch.Size([5, 3])"
      ]
     },
     "execution_count": 36,
     "metadata": {},
     "output_type": "execute_result"
    }
   ],
   "source": [
    "x.size()"
   ]
  },
  {
   "cell_type": "code",
   "execution_count": 37,
   "metadata": {},
   "outputs": [],
   "source": [
    "y = torch.rand(5,3)"
   ]
  },
  {
   "cell_type": "code",
   "execution_count": 40,
   "metadata": {},
   "outputs": [
    {
     "name": "stdout",
     "output_type": "stream",
     "text": [
      "tensor([[ 1.1655,  0.3860,  1.9352],\n",
      "        [ 0.1563,  1.6478,  1.2236],\n",
      "        [ 0.5300, -0.9703,  2.3527],\n",
      "        [-0.4084,  0.9981,  0.6081],\n",
      "        [-0.9867,  2.0927, -1.2672]])\n"
     ]
    }
   ],
   "source": [
    "print(x + y)"
   ]
  },
  {
   "cell_type": "code",
   "execution_count": 41,
   "metadata": {},
   "outputs": [
    {
     "name": "stdout",
     "output_type": "stream",
     "text": [
      "tensor([[ 1.1655,  0.3860,  1.9352],\n",
      "        [ 0.1563,  1.6478,  1.2236],\n",
      "        [ 0.5300, -0.9703,  2.3527],\n",
      "        [-0.4084,  0.9981,  0.6081],\n",
      "        [-0.9867,  2.0927, -1.2672]])\n"
     ]
    }
   ],
   "source": [
    "print(torch.add(x,y))"
   ]
  },
  {
   "cell_type": "code",
   "execution_count": 42,
   "metadata": {},
   "outputs": [
    {
     "data": {
      "text/plain": [
       "tensor([[ 1.1655,  0.3860,  1.9352],\n",
       "        [ 0.1563,  1.6478,  1.2236],\n",
       "        [ 0.5300, -0.9703,  2.3527],\n",
       "        [-0.4084,  0.9981,  0.6081],\n",
       "        [-0.9867,  2.0927, -1.2672]])"
      ]
     },
     "execution_count": 42,
     "metadata": {},
     "output_type": "execute_result"
    }
   ],
   "source": [
    "result = torch.empty(5,3)\n",
    "torch.add(x,y,out=result)"
   ]
  },
  {
   "cell_type": "code",
   "execution_count": 43,
   "metadata": {},
   "outputs": [
    {
     "name": "stdout",
     "output_type": "stream",
     "text": [
      "tensor([[ 1.1655,  0.3860,  1.9352],\n",
      "        [ 0.1563,  1.6478,  1.2236],\n",
      "        [ 0.5300, -0.9703,  2.3527],\n",
      "        [-0.4084,  0.9981,  0.6081],\n",
      "        [-0.9867,  2.0927, -1.2672]])\n"
     ]
    }
   ],
   "source": [
    "print(result)"
   ]
  },
  {
   "cell_type": "code",
   "execution_count": 44,
   "metadata": {},
   "outputs": [
    {
     "name": "stdout",
     "output_type": "stream",
     "text": [
      "tensor([[0.3075, 0.1738, 0.4184],\n",
      "        [0.0536, 0.8646, 0.9479],\n",
      "        [0.0239, 0.1962, 0.3847],\n",
      "        [0.9295, 0.0801, 0.9702],\n",
      "        [0.2402, 0.8041, 0.1428]])\n"
     ]
    }
   ],
   "source": [
    "print(y)"
   ]
  },
  {
   "cell_type": "code",
   "execution_count": 45,
   "metadata": {},
   "outputs": [
    {
     "name": "stdout",
     "output_type": "stream",
     "text": [
      "tensor([[ 1.1655,  0.3860,  1.9352],\n",
      "        [ 0.1563,  1.6478,  1.2236],\n",
      "        [ 0.5300, -0.9703,  2.3527],\n",
      "        [-0.4084,  0.9981,  0.6081],\n",
      "        [-0.9867,  2.0927, -1.2672]])\n"
     ]
    }
   ],
   "source": [
    "y.add_(x)\n",
    "print(y)"
   ]
  },
  {
   "cell_type": "code",
   "execution_count": 46,
   "metadata": {},
   "outputs": [
    {
     "name": "stdout",
     "output_type": "stream",
     "text": [
      "x:tensor([[-2.5186,  2.1582, -1.7363,  0.6393],\n",
      "        [-1.2611,  0.2048,  0.8537,  0.2720],\n",
      "        [-0.8043,  0.1469,  0.4372,  0.9881],\n",
      "        [ 0.7205, -0.2668,  0.7555, -0.3462]])\n"
     ]
    }
   ],
   "source": [
    "x = torch.randn(4,4)\n",
    "print(\"x:{}\".format(x))"
   ]
  },
  {
   "cell_type": "code",
   "execution_count": 49,
   "metadata": {},
   "outputs": [
    {
     "name": "stdout",
     "output_type": "stream",
     "text": [
      "tensor([ 2.1582,  0.2048,  0.1469, -0.2668])\n"
     ]
    }
   ],
   "source": [
    "print(x[:,1])"
   ]
  },
  {
   "cell_type": "code",
   "execution_count": 50,
   "metadata": {},
   "outputs": [],
   "source": [
    "x = torch.randn(4,4)\n",
    "y = x.view(16)"
   ]
  },
  {
   "cell_type": "code",
   "execution_count": 60,
   "metadata": {},
   "outputs": [
    {
     "name": "stdout",
     "output_type": "stream",
     "text": [
      "x.shape:torch.Size([4, 4])\n",
      "y.shape:torch.Size([16])\n",
      "x:tensor([[-0.1783, -1.3417,  2.6178, -1.0827],\n",
      "        [-0.3004,  0.0146, -0.3457,  1.9796],\n",
      "        [-0.1285, -1.5420, -1.1219,  1.9897],\n",
      "        [-0.3688, -1.1646,  0.1036, -0.9551]])\n",
      "y:tensor([-0.1783, -1.3417,  2.6178, -1.0827, -0.3004,  0.0146, -0.3457,  1.9796,\n",
      "        -0.1285, -1.5420, -1.1219,  1.9897, -0.3688, -1.1646,  0.1036, -0.9551])\n"
     ]
    }
   ],
   "source": [
    "print(\"x.shape:{}\".format(x.shape))\n",
    "print(\"y.shape:{}\".format(y.shape))\n",
    "print(\"x:{}\".format(x))\n",
    "print(\"y:{}\".format(y))"
   ]
  },
  {
   "cell_type": "code",
   "execution_count": 61,
   "metadata": {},
   "outputs": [
    {
     "name": "stdout",
     "output_type": "stream",
     "text": [
      "tensor([1.0434])\n",
      "1.043440341949463\n"
     ]
    }
   ],
   "source": [
    "x = torch.randn(1)\n",
    "print(x)\n",
    "print(x.item())"
   ]
  },
  {
   "cell_type": "code",
   "execution_count": 62,
   "metadata": {},
   "outputs": [
    {
     "name": "stdout",
     "output_type": "stream",
     "text": [
      "tensor([1., 1., 1., 1., 1.])\n"
     ]
    }
   ],
   "source": [
    "a = torch.ones(5)\n",
    "print(a)"
   ]
  },
  {
   "cell_type": "code",
   "execution_count": 63,
   "metadata": {},
   "outputs": [
    {
     "name": "stdout",
     "output_type": "stream",
     "text": [
      "[1. 1. 1. 1. 1.]\n"
     ]
    }
   ],
   "source": [
    "b = a.numpy()\n",
    "print(b)"
   ]
  },
  {
   "cell_type": "code",
   "execution_count": 64,
   "metadata": {},
   "outputs": [
    {
     "name": "stdout",
     "output_type": "stream",
     "text": [
      "a:tensor([2., 2., 2., 2., 2.])\n",
      "b:[2. 2. 2. 2. 2.]\n"
     ]
    }
   ],
   "source": [
    "a.add_(1)\n",
    "print(\"a:{}\".format(a))\n",
    "print(\"b:{}\".format(b))"
   ]
  },
  {
   "cell_type": "code",
   "execution_count": 65,
   "metadata": {},
   "outputs": [],
   "source": [
    "import numpy as np"
   ]
  },
  {
   "cell_type": "code",
   "execution_count": 67,
   "metadata": {},
   "outputs": [
    {
     "name": "stdout",
     "output_type": "stream",
     "text": [
      "[1. 1. 1. 1. 1.]\n",
      "tensor([1., 1., 1., 1., 1.], dtype=torch.float64)\n"
     ]
    }
   ],
   "source": [
    "a = np.ones(5)\n",
    "print(a)\n",
    "b = torch.from_numpy(a)\n",
    "print(b)"
   ]
  },
  {
   "cell_type": "code",
   "execution_count": 69,
   "metadata": {},
   "outputs": [
    {
     "name": "stdout",
     "output_type": "stream",
     "text": [
      "tensor([2.0434], device='cuda:0')\n",
      "tensor([2.0434], dtype=torch.float64)\n"
     ]
    }
   ],
   "source": [
    "if torch.cuda.is_available():\n",
    "    device = torch.device(\"cuda\")\n",
    "    y = torch.ones_like(x,device=device)\n",
    "    x = x.to(device)\n",
    "    z = x + y\n",
    "    print(z)\n",
    "    print(z.to(\"cpu\",torch.double))"
   ]
  },
  {
   "cell_type": "code",
   "execution_count": null,
   "metadata": {},
   "outputs": [],
   "source": []
  },
  {
   "cell_type": "code",
   "execution_count": null,
   "metadata": {},
   "outputs": [],
   "source": []
  }
 ],
 "metadata": {
  "kernelspec": {
   "display_name": "Python 3",
   "language": "python",
   "name": "python3"
  },
  "language_info": {
   "codemirror_mode": {
    "name": "ipython",
    "version": 3
   },
   "file_extension": ".py",
   "mimetype": "text/x-python",
   "name": "python",
   "nbconvert_exporter": "python",
   "pygments_lexer": "ipython3",
   "version": "3.7.4"
  }
 },
 "nbformat": 4,
 "nbformat_minor": 2
}
